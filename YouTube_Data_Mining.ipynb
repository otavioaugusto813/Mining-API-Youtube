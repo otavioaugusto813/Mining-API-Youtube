{
  "nbformat": 4,
  "nbformat_minor": 0,
  "metadata": {
    "colab": {
      "name": "YouTube Data Mining.ipynb",
      "provenance": []
    },
    "kernelspec": {
      "name": "python3",
      "display_name": "Python 3"
    }
  },
  "cells": [
    {
      "cell_type": "code",
      "metadata": {
        "id": "o_ADxGXs0RKD",
        "colab_type": "code",
        "colab": {}
      },
      "source": [
        "import matplotlib.pyplot as plt\n"
      ],
      "execution_count": 50,
      "outputs": []
    },
    {
      "cell_type": "code",
      "metadata": {
        "id": "Cqn4DFV9gz1c",
        "colab_type": "code",
        "colab": {}
      },
      "source": [
        "from googleapiclient.discovery import build\n",
        "\n",
        "yt = build('youtube', 'v3', developerKey= api_key)\n",
        "\n",
        "playlist_id_bolsonaro = 'UU8hGUtfEgvvnp6IaHSAg1OQ'\n",
        "playlist_id_lula = 'UUvO2BExvkAbGMsTGnEnI_Ng'\n",
        "\n",
        "\n"
      ],
      "execution_count": 60,
      "outputs": []
    },
    {
      "cell_type": "code",
      "metadata": {
        "id": "t4N5T_uQg4ps",
        "colab_type": "code",
        "colab": {}
      },
      "source": [
        "def count_views(playlist_id):\n",
        "  videos = []\n",
        "  nextPageToken = None\n",
        "  while True:\n",
        "    request = yt.playlistItems().list(\n",
        "        part='contentDetails', playlistId= playlist_id, maxResults = 50, pageToken = nextPageToken)\n",
        "\n",
        "    resposta = request.execute()\n",
        "\n",
        "    video_ids = []\n",
        "    for item in resposta['items']:\n",
        "        video_ids.append(item['contentDetails']['videoId'])\n",
        "\n",
        "    vid_request = yt.videos().list(part = 'statistics', id= ','.join(video_ids))\n",
        "\n",
        "    vid_response = vid_request.execute()\n",
        "\n",
        "    for item in vid_response['items']:\n",
        "        vid_views = item['statistics']['viewCount']\n",
        "        vid_id = item['id']\n",
        "        yt_link = f'https://youtu.be/{vid_id}'\n",
        "\n",
        "        videos.append(\n",
        "            {\n",
        "                'views': int(vid_views),\n",
        "                'url': yt_link\n",
        "            }\n",
        "        )\n",
        "    nextPageToken = resposta.get('nextPageToken')\n",
        "\n",
        "    if not nextPageToken:\n",
        "        break\n",
        "  videos.sort(key=lambda vid:vid['views'], reverse= True)\n",
        "  \n",
        "  return videos\n",
        "\n"
      ],
      "execution_count": 22,
      "outputs": []
    },
    {
      "cell_type": "code",
      "metadata": {
        "id": "BBgBaaU_xTMv",
        "colab_type": "code",
        "colab": {}
      },
      "source": [
        "bolsonaro = count_views(playlist_id_bolsonaro)\n"
      ],
      "execution_count": 26,
      "outputs": []
    },
    {
      "cell_type": "code",
      "metadata": {
        "id": "AVsU64-kyg6_",
        "colab_type": "code",
        "colab": {}
      },
      "source": [
        "def total_views(lista):\n",
        "  total_views = 0\n",
        "  for i in range(len(lista)):\n",
        "    total_views += lista[i]['views']\n",
        "  return total_views"
      ],
      "execution_count": 63,
      "outputs": []
    },
    {
      "cell_type": "code",
      "metadata": {
        "id": "j8h7K7ac1tn7",
        "colab_type": "code",
        "colab": {
          "base_uri": "https://localhost:8080/",
          "height": 35
        },
        "outputId": "0f89f6f1-4aff-44ec-f726-4cf3c5764389"
      },
      "source": [
        "total_views(bolsonaro)"
      ],
      "execution_count": 64,
      "outputs": [
        {
          "output_type": "execute_result",
          "data": {
            "text/plain": [
              "183919738"
            ]
          },
          "metadata": {
            "tags": []
          },
          "execution_count": 64
        }
      ]
    },
    {
      "cell_type": "code",
      "metadata": {
        "id": "ZlLte8O70UHp",
        "colab_type": "code",
        "colab": {
          "base_uri": "https://localhost:8080/",
          "height": 312
        },
        "outputId": "5a8dc04d-3608-4639-b1d9-0b06f56549b9"
      },
      "source": [
        "views = []\n",
        "for i in range(len(bolsonaro)):\n",
        "  views.append(bolsonaro[i]['views'])\n",
        "\n",
        "plt.title(f\"Histograma de visualizações dos vídeos de Jair Bolsonaro. Total de views: {total_views(bolsonaro)}\")\n",
        "plt.hist(views)\n",
        "plt.plot()"
      ],
      "execution_count": 78,
      "outputs": [
        {
          "output_type": "execute_result",
          "data": {
            "text/plain": [
              "[]"
            ]
          },
          "metadata": {
            "tags": []
          },
          "execution_count": 78
        },
        {
          "output_type": "display_data",
          "data": {
            "image/png": "[encoded data removed]",
            "text/plain": [
              "<Figure size 432x288 with 1 Axes>"
            ]
          },
          "metadata": {
            "tags": [],
            "needs_background": "light"
          }
        }
      ]
    },
    {
      "cell_type": "code",
      "metadata": {
        "id": "0RpfQIK9xci-",
        "colab_type": "code",
        "colab": {}
      },
      "source": [
        "lula = count_views(playlist_id_lula)"
      ],
      "execution_count": 62,
      "outputs": []
    },
    {
      "cell_type": "code",
      "metadata": {
        "id": "qxMnjqSw15CO",
        "colab_type": "code",
        "colab": {
          "base_uri": "https://localhost:8080/",
          "height": 312
        },
        "outputId": "5b73ee4e-51f2-4ede-942e-8b90b9ae1ada"
      },
      "source": [
        "views = []\n",
        "for i in range(len(lula)):\n",
        "  views.append(lula[i]['views'])\n",
        "\n",
        "plt.title(f\"Histograma de visualizações dos vídeos de Lula. Total de views: {total_views(lula)}\")\n",
        "plt.hist(views)\n",
        "plt.plot()"
      ],
      "execution_count": 79,
      "outputs": [
        {
          "output_type": "execute_result",
          "data": {
            "text/plain": [
              "[]"
            ]
          },
          "metadata": {
            "tags": []
          },
          "execution_count": 79
        },
        {
          "output_type": "display_data",
          "data": {
            "image/png": "[encoded data removed]",
            "text/plain": [
              "<Figure size 432x288 with 1 Axes>"
            ]
          },
          "metadata": {
            "tags": [],
            "needs_background": "light"
          }
        }
      ]
    }
  ]
}